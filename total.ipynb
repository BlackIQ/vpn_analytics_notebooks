{
 "cells": [
  {
   "cell_type": "markdown",
   "metadata": {},
   "source": [
    "# VPN Usage Treemap\n",
    "\n",
    "In this project we get usage of our users and make data tree that who is using the most.\n",
    "\n",
    "Data is reading from vpn panel API."
   ]
  },
  {
   "cell_type": "code",
   "execution_count": 1,
   "metadata": {
    "id": "113TmsIsbXDM"
   },
   "outputs": [],
   "source": [
    "# Data proccessing\n",
    "from matplotlib import pyplot as plt\n",
    "import pandas as pd\n",
    "import numpy as np\n",
    "\n",
    "# Make HTTP requests\n",
    "import requests as req\n",
    "\n",
    "# Color and treemap\n",
    "import seaborn as sb\n",
    "import squarify\n",
    "\n",
    "# Config\n",
    "from config.config import env"
   ]
  },
  {
   "cell_type": "code",
   "execution_count": 2,
   "metadata": {
    "id": "5tZew33tcNdl"
   },
   "outputs": [],
   "source": [
    "# The base URL\n",
    "base_url = \"http://95.216.138.218:2003\"\n",
    "\n",
    "# Add headers to authorize in API\n",
    "headers = {\n",
    "    \"Cookie\": env('COOCIE')\n",
    "}\n",
    "\n",
    "# Get list of \n",
    "list = req.post(f\"{base_url}/xui/inbound/list\", headers=headers, data={})\n",
    "\n",
    "# Make json and get only `obj` item\n",
    "data = list.json()[\"obj\"]"
   ]
  },
  {
   "cell_type": "code",
   "execution_count": 3,
   "metadata": {
    "colab": {
     "base_uri": "https://localhost:8080/",
     "height": 495
    },
    "id": "fO8rgPJ1dgNW",
    "outputId": "dd3a6605-bdb6-47a4-a201-08e57902c168"
   },
   "outputs": [
    {
     "data": {
      "text/html": [
       "<div>\n",
       "<style scoped>\n",
       "    .dataframe tbody tr th:only-of-type {\n",
       "        vertical-align: middle;\n",
       "    }\n",
       "\n",
       "    .dataframe tbody tr th {\n",
       "        vertical-align: top;\n",
       "    }\n",
       "\n",
       "    .dataframe thead th {\n",
       "        text-align: right;\n",
       "    }\n",
       "</style>\n",
       "<table border=\"1\" class=\"dataframe\">\n",
       "  <thead>\n",
       "    <tr style=\"text-align: right;\">\n",
       "      <th></th>\n",
       "      <th>up</th>\n",
       "      <th>down</th>\n",
       "      <th>remark</th>\n",
       "      <th>id</th>\n",
       "    </tr>\n",
       "  </thead>\n",
       "  <tbody>\n",
       "    <tr>\n",
       "      <th>0</th>\n",
       "      <td>7399312468</td>\n",
       "      <td>42599083773</td>\n",
       "      <td>Amirhossein Mohammadi</td>\n",
       "      <td>1</td>\n",
       "    </tr>\n",
       "    <tr>\n",
       "      <th>1</th>\n",
       "      <td>349618555</td>\n",
       "      <td>3897126178</td>\n",
       "      <td>Amirhossein</td>\n",
       "      <td>2</td>\n",
       "    </tr>\n",
       "    <tr>\n",
       "      <th>2</th>\n",
       "      <td>680456821</td>\n",
       "      <td>2218938482</td>\n",
       "      <td>Amirhissein SBBIRAN</td>\n",
       "      <td>3</td>\n",
       "    </tr>\n",
       "    <tr>\n",
       "      <th>3</th>\n",
       "      <td>1868039798</td>\n",
       "      <td>20970898036</td>\n",
       "      <td>RG</td>\n",
       "      <td>4</td>\n",
       "    </tr>\n",
       "    <tr>\n",
       "      <th>4</th>\n",
       "      <td>1831180246</td>\n",
       "      <td>47449308190</td>\n",
       "      <td>MZ</td>\n",
       "      <td>5</td>\n",
       "    </tr>\n",
       "    <tr>\n",
       "      <th>5</th>\n",
       "      <td>1910934921</td>\n",
       "      <td>27754453177</td>\n",
       "      <td>New RG</td>\n",
       "      <td>9</td>\n",
       "    </tr>\n",
       "    <tr>\n",
       "      <th>6</th>\n",
       "      <td>262524383</td>\n",
       "      <td>3104221798</td>\n",
       "      <td>SA</td>\n",
       "      <td>13</td>\n",
       "    </tr>\n",
       "    <tr>\n",
       "      <th>7</th>\n",
       "      <td>51409177</td>\n",
       "      <td>1531648764</td>\n",
       "      <td>Niloo</td>\n",
       "      <td>15</td>\n",
       "    </tr>\n",
       "    <tr>\n",
       "      <th>8</th>\n",
       "      <td>1080067329</td>\n",
       "      <td>6164264540</td>\n",
       "      <td>Jalal</td>\n",
       "      <td>16</td>\n",
       "    </tr>\n",
       "    <tr>\n",
       "      <th>9</th>\n",
       "      <td>131868852</td>\n",
       "      <td>3205656784</td>\n",
       "      <td>Sina</td>\n",
       "      <td>17</td>\n",
       "    </tr>\n",
       "    <tr>\n",
       "      <th>10</th>\n",
       "      <td>45183226</td>\n",
       "      <td>1000221114</td>\n",
       "      <td>Arash</td>\n",
       "      <td>18</td>\n",
       "    </tr>\n",
       "    <tr>\n",
       "      <th>11</th>\n",
       "      <td>16140240</td>\n",
       "      <td>289039984</td>\n",
       "      <td>Majid</td>\n",
       "      <td>19</td>\n",
       "    </tr>\n",
       "    <tr>\n",
       "      <th>12</th>\n",
       "      <td>10893279</td>\n",
       "      <td>154634227</td>\n",
       "      <td>Zarchi</td>\n",
       "      <td>20</td>\n",
       "    </tr>\n",
       "  </tbody>\n",
       "</table>\n",
       "</div>"
      ],
      "text/plain": [
       "            up         down                 remark  id\n",
       "0   7399312468  42599083773  Amirhossein Mohammadi   1\n",
       "1    349618555   3897126178            Amirhossein   2\n",
       "2    680456821   2218938482    Amirhissein SBBIRAN   3\n",
       "3   1868039798  20970898036                     RG   4\n",
       "4   1831180246  47449308190                     MZ   5\n",
       "5   1910934921  27754453177                 New RG   9\n",
       "6    262524383   3104221798                     SA  13\n",
       "7     51409177   1531648764                  Niloo  15\n",
       "8   1080067329   6164264540                  Jalal  16\n",
       "9    131868852   3205656784                   Sina  17\n",
       "10    45183226   1000221114                  Arash  18\n",
       "11    16140240    289039984                  Majid  19\n",
       "12    10893279    154634227                 Zarchi  20"
      ]
     },
     "execution_count": 3,
     "metadata": {},
     "output_type": "execute_result"
    }
   ],
   "source": [
    "# Defile our needed columns\n",
    "columns_to_keep = ['up', 'down', 'remark', 'id']\n",
    "\n",
    "# Make dataframe\n",
    "df = pd.DataFrame(data)\n",
    "\n",
    "# Just select our needed columns\n",
    "df = df.loc[:, columns_to_keep]\n",
    "\n",
    "# Show dataframe\n",
    "df"
   ]
  },
  {
   "cell_type": "markdown",
   "metadata": {},
   "source": [
    "## Treemap\n",
    "\n",
    "Here we can only get treemap of usages.\n",
    "\n",
    "Example: [tsetmc.com](http://main.tsetmc.com/marketmap)"
   ]
  },
  {
   "cell_type": "code",
   "execution_count": 4,
   "metadata": {
    "colab": {
     "base_uri": "https://localhost:8080/",
     "height": 453
    },
    "id": "aPwnuLWlb88B",
    "outputId": "a6357ac0-10c5-4928-cb85-6d72c335d971"
   },
   "outputs": [
    {
     "name": "stdout",
     "output_type": "stream",
     "text": [
      "[D]ownload or [U]pload?d\n"
     ]
    },
    {
     "data": {
      "image/png": "[encoded data removed]",
      "text/plain": [
       "<Figure size 640x480 with 1 Axes>"
      ]
     },
     "metadata": {},
     "output_type": "display_data"
    }
   ],
   "source": [
    "# Get input of what user want\n",
    "select = input(\"[D]ownload or [U]pload?\")\n",
    "\n",
    "# Create chart dictionary\n",
    "chart = {}\n",
    "\n",
    "# Switch case\n",
    "match select.lower():\n",
    "    case 'd':\n",
    "        chart['data'] = df.down\n",
    "        chart['name'] = 'Downlaod'\n",
    "    case 'u':\n",
    "        chart['data'] = df.up\n",
    "        chart['name'] = 'Downlaod'\n",
    "    case _:\n",
    "        print('Invalid selection. Select is only u or d.')\n",
    "    \n",
    "# Draw chart if chart is available\n",
    "if chart:\n",
    "    # Make treemap\n",
    "    squarify.plot(\n",
    "        sizes=chart['data'], # Add data\n",
    "        label=[item[\"remark\"][0:2] for item in data], # Add labels\n",
    "        pad=0.1,\n",
    "        color=sb.color_palette(\"Spectral\", len(df)) # Add color\n",
    "    )\n",
    "\n",
    "    # Customize and show\n",
    "    plt.title(f\"{chart['name']} treemap\") # Title\n",
    "    plt.axis(\"off\") # Disable border stuf\n",
    "    plt.show() # Show the plot"
   ]
  },
  {
   "cell_type": "markdown",
   "metadata": {},
   "source": [
    "## Bar chart\n",
    "\n",
    "Here is the bar chart of usage."
   ]
  },
  {
   "cell_type": "code",
   "execution_count": 5,
   "metadata": {
    "colab": {
     "base_uri": "https://localhost:8080/",
     "height": 490
    },
    "id": "OA9vtTJ1djEE",
    "outputId": "02498564-3c61-4e7c-b0fb-176faa96a516"
   },
   "outputs": [
    {
     "data": {
      "image/png": "[encoded data removed]",
      "text/plain": [
       "<Figure size 640x480 with 1 Axes>"
      ]
     },
     "metadata": {},
     "output_type": "display_data"
    }
   ],
   "source": [
    "# Set the bar width\n",
    "bar_width = 0.2\n",
    "\n",
    "# Set the x positions of the bars\n",
    "r1 = np.arange(len(df))\n",
    "r2 = [x + bar_width for x in r1]\n",
    "\n",
    "# Create the bar chart\n",
    "plt.bar(r1, df.up, color='red', width=bar_width, label='Upload')\n",
    "plt.bar(r2, df.down, color='blue', width=bar_width, label='Download')\n",
    "\n",
    "# Customize the chart\n",
    "plt.title('Upload and Download Data') # Title\n",
    "plt.xlabel('Users') # Set x label\n",
    "plt.ylabel('Usage') # Set y label\n",
    "plt.xticks([r + bar_width/2 for r in range(len(df))], [item[:2] for item in df['remark']]) # Set each bar label\n",
    "plt.legend() # Add helper\n",
    "plt.show() # Show plot"
   ]
  },
  {
   "cell_type": "markdown",
   "metadata": {},
   "source": [
    "## Pie chart\n",
    "\n",
    "Here is the pie chart of usage."
   ]
  },
  {
   "cell_type": "code",
   "execution_count": 6,
   "metadata": {},
   "outputs": [
    {
     "name": "stdout",
     "output_type": "stream",
     "text": [
      "[D]ownload or [U]pload?d\n"
     ]
    },
    {
     "data": {
      "image/png": "[encoded data removed]",
      "text/plain": [
       "<Figure size 640x480 with 1 Axes>"
      ]
     },
     "metadata": {},
     "output_type": "display_data"
    }
   ],
   "source": [
    "# Get input of what user want\n",
    "select = input(\"[D]ownload or [U]pload?\")\n",
    "\n",
    "# Create chart dictionary\n",
    "chart = {}\n",
    "\n",
    "# Switch case\n",
    "match select.lower():\n",
    "    case 'd':\n",
    "        chart['data'] = df.down\n",
    "        chart['name'] = 'Downlaod'\n",
    "    case 'u':\n",
    "        chart['data'] = df.up\n",
    "        chart['name'] = 'Downlaod'\n",
    "    case _:\n",
    "        print('Invalid selection. Select is only u or d.')\n",
    "    \n",
    "# Draw chart if chart is available\n",
    "if chart:\n",
    "    # Make pie\n",
    "    plt.pie(chart['data'], labels=[item[:2] for item in df['remark']])\n",
    "\n",
    "    # Customize and show\n",
    "    plt.title(f\"{chart['name']} pie\") # Title\n",
    "    plt.axis(\"off\") # Disable border stuf\n",
    "    plt.legend()\n",
    "    plt.show() # Show the plot"
   ]
  }
 ],
 "metadata": {
  "colab": {
   "provenance": []
  },
  "kernelspec": {
   "display_name": "Python 3 (ipykernel)",
   "language": "python",
   "name": "python3"
  },
  "language_info": {
   "codemirror_mode": {
    "name": "ipython",
    "version": 3
   },
   "file_extension": ".py",
   "mimetype": "text/x-python",
   "name": "python",
   "nbconvert_exporter": "python",
   "pygments_lexer": "ipython3",
   "version": "3.11.2"
  }
 },
 "nbformat": 4,
 "nbformat_minor": 1
}
