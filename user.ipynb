{
 "cells": [
  {
   "cell_type": "markdown",
   "id": "c5a67fa3",
   "metadata": {},
   "source": [
    "# VPN User Usage Analytics\n",
    "\n",
    "In this notebook we are getting data from our mongodb.\n",
    "\n",
    "Data that saved in mongodb is by the script named `get_data` that runs every 1 hour."
   ]
  },
  {
   "cell_type": "code",
   "execution_count": 74,
   "id": "2b9529fb",
   "metadata": {},
   "outputs": [],
   "source": [
    "# Database\n",
    "from pymongo import MongoClient as mongo\n",
    "\n",
    "# Data proccessing\n",
    "from matplotlib import pyplot as plt\n",
    "import pandas as pd\n",
    "import numpy as np\n",
    "\n",
    "# Make HTTP requests\n",
    "import requests as req\n",
    "\n",
    "# Color\n",
    "import seaborn as sb\n",
    "\n",
    "# Config\n",
    "from config.config import env"
   ]
  },
  {
   "cell_type": "code",
   "execution_count": 75,
   "id": "9f8889fe",
   "metadata": {},
   "outputs": [],
   "source": [
    "# Create mongo connection\n",
    "client = mongo(env('MONGO_ATLAS'))\n",
    "\n",
    "db = client[\"vpn\"] # Use database\n",
    "collection = db['stats'] # Use collection"
   ]
  },
  {
   "cell_type": "code",
   "execution_count": 76,
   "id": "719c3abf",
   "metadata": {
    "scrolled": false
   },
   "outputs": [
    {
     "name": "stdout",
     "output_type": "stream",
     "text": [
      "User ID: 1\n"
     ]
    },
    {
     "data": {
      "text/html": [
       "<div>\n",
       "<style scoped>\n",
       "    .dataframe tbody tr th:only-of-type {\n",
       "        vertical-align: middle;\n",
       "    }\n",
       "\n",
       "    .dataframe tbody tr th {\n",
       "        vertical-align: top;\n",
       "    }\n",
       "\n",
       "    .dataframe thead th {\n",
       "        text-align: right;\n",
       "    }\n",
       "</style>\n",
       "<table border=\"1\" class=\"dataframe\">\n",
       "  <thead>\n",
       "    <tr style=\"text-align: right;\">\n",
       "      <th></th>\n",
       "      <th>_id</th>\n",
       "      <th>remark</th>\n",
       "      <th>download</th>\n",
       "      <th>upload</th>\n",
       "      <th>id</th>\n",
       "      <th>sequence</th>\n",
       "    </tr>\n",
       "  </thead>\n",
       "  <tbody>\n",
       "    <tr>\n",
       "      <th>0</th>\n",
       "      <td>646f5bd3a9548a4ef5e5048f</td>\n",
       "      <td>Amirhossein Mohammadi</td>\n",
       "      <td>0.0</td>\n",
       "      <td>0.0</td>\n",
       "      <td>1</td>\n",
       "      <td>13:00</td>\n",
       "    </tr>\n",
       "    <tr>\n",
       "      <th>1</th>\n",
       "      <td>646f69e20d58a14e9cda780b</td>\n",
       "      <td>Amirhossein Mohammadi</td>\n",
       "      <td>46317106.0</td>\n",
       "      <td>4420681.0</td>\n",
       "      <td>1</td>\n",
       "      <td>14:00</td>\n",
       "    </tr>\n",
       "    <tr>\n",
       "      <th>2</th>\n",
       "      <td>646f77f3be05b0c0f5cb6d1a</td>\n",
       "      <td>Amirhossein Mohammadi</td>\n",
       "      <td>97003703.0</td>\n",
       "      <td>6415196.0</td>\n",
       "      <td>1</td>\n",
       "      <td>15:00</td>\n",
       "    </tr>\n",
       "    <tr>\n",
       "      <th>3</th>\n",
       "      <td>646f86023b4fe6b18b2827a4</td>\n",
       "      <td>Amirhossein Mohammadi</td>\n",
       "      <td>74860145.0</td>\n",
       "      <td>3142833.0</td>\n",
       "      <td>1</td>\n",
       "      <td>16:00</td>\n",
       "    </tr>\n",
       "    <tr>\n",
       "      <th>4</th>\n",
       "      <td>646f941364e8649ad87ca6b7</td>\n",
       "      <td>Amirhossein Mohammadi</td>\n",
       "      <td>4502860.0</td>\n",
       "      <td>564967.0</td>\n",
       "      <td>1</td>\n",
       "      <td>17:00</td>\n",
       "    </tr>\n",
       "    <tr>\n",
       "      <th>5</th>\n",
       "      <td>646fa223cfef0b6a169fe8d8</td>\n",
       "      <td>Amirhossein Mohammadi</td>\n",
       "      <td>12763900.0</td>\n",
       "      <td>1939741.0</td>\n",
       "      <td>1</td>\n",
       "      <td>18:00</td>\n",
       "    </tr>\n",
       "    <tr>\n",
       "      <th>6</th>\n",
       "      <td>646fb032258cb40b937fa6d2</td>\n",
       "      <td>Amirhossein Mohammadi</td>\n",
       "      <td>33159623.0</td>\n",
       "      <td>3100581.0</td>\n",
       "      <td>1</td>\n",
       "      <td>19:00</td>\n",
       "    </tr>\n",
       "    <tr>\n",
       "      <th>7</th>\n",
       "      <td>646fbe43da2423125f705a2a</td>\n",
       "      <td>Amirhossein Mohammadi</td>\n",
       "      <td>5460894.0</td>\n",
       "      <td>1323065.0</td>\n",
       "      <td>1</td>\n",
       "      <td>20:00</td>\n",
       "    </tr>\n",
       "    <tr>\n",
       "      <th>8</th>\n",
       "      <td>646fcc532121e6fc8f45e68b</td>\n",
       "      <td>Amirhossein Mohammadi</td>\n",
       "      <td>49077682.0</td>\n",
       "      <td>3760270.0</td>\n",
       "      <td>1</td>\n",
       "      <td>21:00</td>\n",
       "    </tr>\n",
       "    <tr>\n",
       "      <th>9</th>\n",
       "      <td>646fda6369f40f02691d6f71</td>\n",
       "      <td>Amirhossein Mohammadi</td>\n",
       "      <td>6596058.0</td>\n",
       "      <td>1502416.0</td>\n",
       "      <td>1</td>\n",
       "      <td>22:00</td>\n",
       "    </tr>\n",
       "  </tbody>\n",
       "</table>\n",
       "</div>"
      ],
      "text/plain": [
       "                        _id                 remark    download     upload  id   \n",
       "0  646f5bd3a9548a4ef5e5048f  Amirhossein Mohammadi         0.0        0.0   1  \\\n",
       "1  646f69e20d58a14e9cda780b  Amirhossein Mohammadi  46317106.0  4420681.0   1   \n",
       "2  646f77f3be05b0c0f5cb6d1a  Amirhossein Mohammadi  97003703.0  6415196.0   1   \n",
       "3  646f86023b4fe6b18b2827a4  Amirhossein Mohammadi  74860145.0  3142833.0   1   \n",
       "4  646f941364e8649ad87ca6b7  Amirhossein Mohammadi   4502860.0   564967.0   1   \n",
       "5  646fa223cfef0b6a169fe8d8  Amirhossein Mohammadi  12763900.0  1939741.0   1   \n",
       "6  646fb032258cb40b937fa6d2  Amirhossein Mohammadi  33159623.0  3100581.0   1   \n",
       "7  646fbe43da2423125f705a2a  Amirhossein Mohammadi   5460894.0  1323065.0   1   \n",
       "8  646fcc532121e6fc8f45e68b  Amirhossein Mohammadi  49077682.0  3760270.0   1   \n",
       "9  646fda6369f40f02691d6f71  Amirhossein Mohammadi   6596058.0  1502416.0   1   \n",
       "\n",
       "  sequence  \n",
       "0    13:00  \n",
       "1    14:00  \n",
       "2    15:00  \n",
       "3    16:00  \n",
       "4    17:00  \n",
       "5    18:00  \n",
       "6    19:00  \n",
       "7    20:00  \n",
       "8    21:00  \n",
       "9    22:00  "
      ]
     },
     "execution_count": 76,
     "metadata": {},
     "output_type": "execute_result"
    }
   ],
   "source": [
    "# Make list\n",
    "items = []\n",
    "\n",
    "# Get user_id\n",
    "uid = int(input(\"User ID: \"))\n",
    "\n",
    "# Find records\n",
    "d = collection.find({'id': uid})\n",
    "\n",
    "# Append records in list\n",
    "for document in d:\n",
    "    items.append(document)\n",
    "    \n",
    "# Create dataframe\n",
    "df = pd.DataFrame(items)\n",
    "\n",
    "# Diff\n",
    "df['upload'] = df['upload'].diff().fillna(0) # Get diff of upload\n",
    "df['download'] = df['download'].diff().fillna(0) # Get diff of download\n",
    "\n",
    "# Show dataframe\n",
    "df"
   ]
  },
  {
   "cell_type": "markdown",
   "id": "b608d197",
   "metadata": {},
   "source": [
    "## Line chart\n",
    "\n",
    "The usage of user based on collected data every hour."
   ]
  },
  {
   "cell_type": "code",
   "execution_count": 77,
   "id": "ac7c4837",
   "metadata": {
    "scrolled": false
   },
   "outputs": [
    {
     "data": {
      "image/png": "[encoded data removed]",
      "text/plain": [
       "<Figure size 640x480 with 1 Axes>"
      ]
     },
     "metadata": {},
     "output_type": "display_data"
    }
   ],
   "source": [
    "sequences = [item.split(\":\")[0] for item in df.sequence]\n",
    "\n",
    "# Draw lines\n",
    "plt.plot(sequences, df.download, color='green', label='Download') # Draw download line\n",
    "plt.plot(sequences, df.upload, color='red', label='Upload') # Draw upload line\n",
    "\n",
    "# Customize plot\n",
    "plt.title('Upload and Download Data') # Add title\n",
    "plt.xlabel('Time') # Give label to x\n",
    "plt.ylabel('Data') # Give label to y\n",
    "plt.legend() # Add helper\n",
    "\n",
    "# Show plot\n",
    "plt.show()"
   ]
  },
  {
   "cell_type": "markdown",
   "id": "c3dfdfc6",
   "metadata": {},
   "source": [
    "## Pie chart\n",
    "\n",
    "Pie plot with uploads and downloads data."
   ]
  },
  {
   "cell_type": "code",
   "execution_count": 78,
   "id": "25f0a2f8",
   "metadata": {
    "scrolled": true
   },
   "outputs": [],
   "source": [
    "# The base URL\n",
    "base_url = \"http://95.216.138.218:2003\"\n",
    "\n",
    "# Add headers to authorize in API\n",
    "headers = {\n",
    "    \"Cookie\": env('COOCIE')\n",
    "}\n",
    "\n",
    "# Get list of \n",
    "list = req.post(f\"{base_url}/xui/inbound/list\", headers=headers, data={})\n",
    "    \n",
    "# Make json and get only `obj` item\n",
    "data = [item for item in list.json()[\"obj\"] if item['id'] == uid][0]"
   ]
  },
  {
   "cell_type": "code",
   "execution_count": 79,
   "id": "f1cd5c3c",
   "metadata": {},
   "outputs": [],
   "source": [
    "pie_sized = [data['down'], data['up']]\n",
    "pie_label = ['Download', 'Upload']"
   ]
  },
  {
   "cell_type": "code",
   "execution_count": 80,
   "id": "84107edb",
   "metadata": {},
   "outputs": [
    {
     "data": {
      "image/png": "[encoded data removed]",
      "text/plain": [
       "<Figure size 640x480 with 1 Axes>"
      ]
     },
     "metadata": {},
     "output_type": "display_data"
    }
   ],
   "source": [
    "# Draw plt\n",
    "plt.pie(\n",
    "    pie_sized,\n",
    "    labels=pie_label,\n",
    "    colors=sb.color_palette(\"Spectral\", len(pie_sized))\n",
    ")\n",
    "\n",
    "# Customize\n",
    "plt.title('Pie of internet usage') # Title\n",
    "plt.legend() # Helper\n",
    "\n",
    "# Show plt\n",
    "plt.show()"
   ]
  }
 ],
 "metadata": {
  "kernelspec": {
   "display_name": "Python 3 (ipykernel)",
   "language": "python",
   "name": "python3"
  },
  "language_info": {
   "codemirror_mode": {
    "name": "ipython",
    "version": 3
   },
   "file_extension": ".py",
   "mimetype": "text/x-python",
   "name": "python",
   "nbconvert_exporter": "python",
   "pygments_lexer": "ipython3",
   "version": "3.11.2"
  }
 },
 "nbformat": 4,
 "nbformat_minor": 5
}
