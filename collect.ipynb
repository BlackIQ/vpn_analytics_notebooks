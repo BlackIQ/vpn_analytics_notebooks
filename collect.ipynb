{
 "cells": [
  {
   "cell_type": "markdown",
   "metadata": {},
   "source": [
    "# VPN Usage collecting\n",
    "\n",
    "In this project we get usage of our users and insert them in our database.\n",
    "\n",
    "Data is reading from vpn panel API.\n",
    "Our databse is mongodb."
   ]
  },
  {
   "cell_type": "code",
   "execution_count": 8,
   "metadata": {
    "colab": {
     "base_uri": "https://localhost:8080/"
    },
    "id": "pQEhSQdetWN-",
    "outputId": "6c3be087-4ea0-4034-f317-a15e021993ec"
   },
   "outputs": [],
   "source": [
    "import requests as req # Make HTTP request\n",
    "from datetime import datetime # Date and time\n",
    "from pymongo import MongoClient as mongo # Database\n",
    "from config.config import env # Env config"
   ]
  },
  {
   "cell_type": "code",
   "execution_count": 10,
   "metadata": {
    "id": "Yo75t2DZtwIf"
   },
   "outputs": [],
   "source": [
    "# Create mongo connection\n",
    "client = mongo(env('MONGO_ATLAS'))\n",
    "\n",
    "db = client[\"vpn\"] # Use database\n",
    "collection = db['stats'] # Use collection"
   ]
  },
  {
   "cell_type": "code",
   "execution_count": 14,
   "metadata": {
    "id": "ewL9cWA9tY9h"
   },
   "outputs": [],
   "source": [
    "# The base URL\n",
    "base_url = \"http://95.216.138.218:2003\"\n",
    "\n",
    "# Add headers to authorize in API\n",
    "headers = {\n",
    "    \"Cookie\": env('COOCIE')\n",
    "}\n",
    "\n",
    "# Get list of usages\n",
    "list = req.post(f\"{base_url}/xui/inbound/list\", headers=headers, data={})\n",
    "\n",
    "# Make json and get only `obj` item\n",
    "data = list.json()[\"obj\"]"
   ]
  },
  {
   "cell_type": "code",
   "execution_count": 15,
   "metadata": {
    "id": "h5dJK5omtbj6"
   },
   "outputs": [],
   "source": [
    "# Get current time\n",
    "current_time = datetime.now().strftime(\"%H:%M\")\n",
    "\n",
    "# Lopp in records and insert in mongo\n",
    "for user in data:\n",
    "    # Create doc\n",
    "    document = {\n",
    "        'remark': user[\"remark\"],\n",
    "        'download': user[\"down\"],\n",
    "        'upload': user[\"up\"],\n",
    "        'id': user[\"id\"],\n",
    "        'sequence': current_time\n",
    "    }\n",
    "    \n",
    "    # Insert\n",
    "    collection.insert_one(document)"
   ]
  }
 ],
 "metadata": {
  "colab": {
   "provenance": []
  },
  "kernelspec": {
   "display_name": "Python 3 (ipykernel)",
   "language": "python",
   "name": "python3"
  },
  "language_info": {
   "codemirror_mode": {
    "name": "ipython",
    "version": 3
   },
   "file_extension": ".py",
   "mimetype": "text/x-python",
   "name": "python",
   "nbconvert_exporter": "python",
   "pygments_lexer": "ipython3",
   "version": "3.11.2"
  }
 },
 "nbformat": 4,
 "nbformat_minor": 1
}
